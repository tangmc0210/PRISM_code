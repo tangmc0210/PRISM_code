{
 "cells": [
  {
   "cell_type": "code",
   "execution_count": 1,
   "metadata": {},
   "outputs": [],
   "source": [
    "from pathlib import Path\n",
    "import numpy as np\n",
    "import pandas as pd\n",
    "from tqdm import tqdm\n",
    "from tifffile import TiffFile, imwrite\n",
    "from skimage.morphology import dilation\n",
    "\n",
    "\n",
    "BASE_DIR = Path(r'F:\\spatial_data_test\\processed')\n",
    "RUN_ID = '20240917_PRISM64_3D_confocal_MouseBrain_TH_new_sample'\n",
    "src_dir = BASE_DIR / f'{RUN_ID}_processed'\n",
    "stc_dir = src_dir / 'stitched'\n",
    "read_dir = src_dir / 'readout'"
   ]
  },
  {
   "cell_type": "code",
   "execution_count": null,
   "metadata": {},
   "outputs": [],
   "source": [
    "def build_maxima (coordinates, shape):\n",
    "    Maxima = np.zeros(shape,dtype=np.uint16)\n",
    "    Maxima[coordinates['Z'],coordinates['X'],coordinates['Y']] = 1\n",
    "    return Maxima"
   ]
  },
  {
   "cell_type": "code",
   "execution_count": null,
   "metadata": {},
   "outputs": [],
   "source": [
    "kernel = np.ones((5,5,5), dtype=np.uint16)\n",
    "sample_image_path = stc_dir / 'cy3.tif'\n",
    "with TiffFile(sample_image_path) as tif:\n",
    "    page = tif.pages[0]\n",
    "    y_size = page.tags['ImageLength'].value\n",
    "    x_size = page.tags['ImageWidth'].value\n",
    "    z_size = len(tif.pages)\n",
    "    shape = (z_size, y_size, x_size)\n",
    "\n",
    "mapped_genes = pd.read_csv(src_dir / 'mapped_genes.csv')"
   ]
  },
  {
   "cell_type": "markdown",
   "metadata": {},
   "source": [
    "## projection to tiff 3d"
   ]
  },
  {
   "cell_type": "code",
   "execution_count": null,
   "metadata": {},
   "outputs": [],
   "source": [
    "gene_tiff_path = read_dir / 'density_tiff'\n",
    "gene_tiff_path.mkdir(exist_ok=True)\n",
    "\n",
    "gene_list = sorted([int(_) for _ in mapped_genes['Gene'].unique() if _ > 0])\n",
    "for label in tqdm(gene_list, desc='Dilation'):\n",
    "    image = build_maxima(mapped_genes[mapped_genes['Gene']==label], shape)\n",
    "    image = dilation(image, selem=kernel)\n",
    "    imwrite(gene_tiff_path / f'{label:02d}_dilated.tif', image)"
   ]
  },
  {
   "cell_type": "markdown",
   "metadata": {},
   "source": [
    "## projection to tiff 3d xydownsampled"
   ]
  },
  {
   "cell_type": "code",
   "execution_count": null,
   "metadata": {},
   "outputs": [
    {
     "name": "stderr",
     "output_type": "stream",
     "text": [
      "Dilation: 100%|██████████| 63/63 [02:37<00:00,  2.50s/it]\n"
     ]
    }
   ],
   "source": [
    "gene_tiff_path = read_dir / 'density_tiff_downsample'\n",
    "gene_tiff_path.mkdir(exist_ok=True)\n",
    "downsample_factor = 4\n",
    "\n",
    "intensity_downsample = mapped_genes.copy()\n",
    "intensity_downsample[['X','Y']] = (intensity_downsample[['X','Y']] // downsample_factor).astype(int)\n",
    "\n",
    "shape = (shape[0], -(-shape[1] // downsample_factor), -(-shape[2] // downsample_factor))\n",
    "for label in tqdm(gene_list, desc='Dilation'):\n",
    "    image = build_maxima(intensity_downsample[intensity_downsample['label']==label], shape)\n",
    "    image = dilation(image, selem=kernel)\n",
    "    imwrite(gene_tiff_path / f'{label:02d}_dilated.tif', image)"
   ]
  }
 ],
 "metadata": {
  "interpreter": {
   "hash": "ad2bdc8ecc057115af97d19610ffacc2b4e99fae6737bb82f5d7fb13d2f2c186"
  },
  "kernelspec": {
   "display_name": "Python 3.8.5 ('base')",
   "language": "python",
   "name": "python3"
  },
  "language_info": {
   "codemirror_mode": {
    "name": "ipython",
    "version": 3
   },
   "file_extension": ".py",
   "mimetype": "text/x-python",
   "name": "python",
   "nbconvert_exporter": "python",
   "pygments_lexer": "ipython3",
   "version": "3.8.19"
  },
  "orig_nbformat": 4
 },
 "nbformat": 4,
 "nbformat_minor": 2
}
