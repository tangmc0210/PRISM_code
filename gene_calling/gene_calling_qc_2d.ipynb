{
 "cells": [
  {
   "cell_type": "code",
   "execution_count": 33,
   "metadata": {},
   "outputs": [],
   "source": [
    "import os\n",
    "from pathlib import Path\n",
    "from tqdm import tqdm\n",
    "\n",
    "import numpy as np\n",
    "import pandas as pd\n",
    "\n",
    "from skimage.io import imread\n",
    "from skimage.io import imsave\n",
    "import matplotlib.pyplot as plt\n",
    "plt.rcParams.update({\n",
    "    \"pgf.texsystem\": \"xelatex\",\n",
    "    'font.family': 'serif',\n",
    "    'text.usetex': False,\n",
    "    'pgf.rcfonts': False,\n",
    "    'figure.dpi': 300,\n",
    "})"
   ]
  },
  {
   "cell_type": "code",
   "execution_count": 19,
   "metadata": {},
   "outputs": [],
   "source": [
    "BASE_DIR = Path(r\"F:\\spatial_data\\processed\")\n",
    "RUN_ID = '20240805_TCR_PRISM30_TNBC_BZ02_CA2_immune_no16,17,18'\n",
    "src_dir = BASE_DIR / f'{RUN_ID}_processed'\n",
    "stc_dir = src_dir / 'stitched'\n",
    "read_dir = src_dir / 'readout'\n",
    "read_dir.mkdir(exist_ok=True)\n",
    "check_dir = read_dir / 'check'\n",
    "check_dir.mkdir(exist_ok=True)"
   ]
  },
  {
   "cell_type": "markdown",
   "metadata": {},
   "source": [
    "1. extract Actb spots from two approach\n",
    "2. find subtraction spots, get some coordinates\n",
    "3. find those coordinates example in raw image(stitched)"
   ]
  },
  {
   "cell_type": "code",
   "execution_count": 21,
   "metadata": {},
   "outputs": [
    {
     "name": "stdout",
     "output_type": "stream",
     "text": [
      "2140165\n"
     ]
    },
    {
     "data": {
      "text/html": [
       "<div>\n",
       "<style scoped>\n",
       "    .dataframe tbody tr th:only-of-type {\n",
       "        vertical-align: middle;\n",
       "    }\n",
       "\n",
       "    .dataframe tbody tr th {\n",
       "        vertical-align: top;\n",
       "    }\n",
       "\n",
       "    .dataframe thead th {\n",
       "        text-align: right;\n",
       "    }\n",
       "</style>\n",
       "<table border=\"1\" class=\"dataframe\">\n",
       "  <thead>\n",
       "    <tr style=\"text-align: right;\">\n",
       "      <th></th>\n",
       "      <th>Y</th>\n",
       "      <th>X</th>\n",
       "      <th>Channel</th>\n",
       "      <th>R</th>\n",
       "      <th>Ye</th>\n",
       "      <th>G</th>\n",
       "      <th>B</th>\n",
       "      <th>Scaled_R</th>\n",
       "      <th>Scaled_Ye</th>\n",
       "      <th>Scaled_G</th>\n",
       "      <th>Scaled_B</th>\n",
       "      <th>sum</th>\n",
       "      <th>G/A</th>\n",
       "    </tr>\n",
       "  </thead>\n",
       "  <tbody>\n",
       "    <tr>\n",
       "      <th>0</th>\n",
       "      <td>17140</td>\n",
       "      <td>2383</td>\n",
       "      <td>cy5</td>\n",
       "      <td>16635</td>\n",
       "      <td>4555</td>\n",
       "      <td>1891</td>\n",
       "      <td>26251.25</td>\n",
       "      <td>16635</td>\n",
       "      <td>4555</td>\n",
       "      <td>4727.5</td>\n",
       "      <td>19688.4375</td>\n",
       "      <td>40879.4375</td>\n",
       "      <td>0.115645</td>\n",
       "    </tr>\n",
       "    <tr>\n",
       "      <th>1</th>\n",
       "      <td>3116</td>\n",
       "      <td>13071</td>\n",
       "      <td>cy5</td>\n",
       "      <td>15907</td>\n",
       "      <td>5736</td>\n",
       "      <td>2127</td>\n",
       "      <td>14768.25</td>\n",
       "      <td>15907</td>\n",
       "      <td>5736</td>\n",
       "      <td>5317.5</td>\n",
       "      <td>11076.1875</td>\n",
       "      <td>32720.1875</td>\n",
       "      <td>0.162514</td>\n",
       "    </tr>\n",
       "    <tr>\n",
       "      <th>2</th>\n",
       "      <td>5470</td>\n",
       "      <td>10148</td>\n",
       "      <td>cy5</td>\n",
       "      <td>13484</td>\n",
       "      <td>0</td>\n",
       "      <td>0</td>\n",
       "      <td>0.00</td>\n",
       "      <td>13484</td>\n",
       "      <td>0</td>\n",
       "      <td>0.0</td>\n",
       "      <td>0.0000</td>\n",
       "      <td>13485.0000</td>\n",
       "      <td>0.000000</td>\n",
       "    </tr>\n",
       "    <tr>\n",
       "      <th>3</th>\n",
       "      <td>9667</td>\n",
       "      <td>9646</td>\n",
       "      <td>cy5</td>\n",
       "      <td>11344</td>\n",
       "      <td>2481</td>\n",
       "      <td>2593</td>\n",
       "      <td>4390.75</td>\n",
       "      <td>11344</td>\n",
       "      <td>2481</td>\n",
       "      <td>6482.5</td>\n",
       "      <td>3293.0625</td>\n",
       "      <td>17119.0625</td>\n",
       "      <td>0.378671</td>\n",
       "    </tr>\n",
       "    <tr>\n",
       "      <th>4</th>\n",
       "      <td>9677</td>\n",
       "      <td>9656</td>\n",
       "      <td>cy5</td>\n",
       "      <td>10237</td>\n",
       "      <td>5072</td>\n",
       "      <td>1487</td>\n",
       "      <td>18483.25</td>\n",
       "      <td>10237</td>\n",
       "      <td>5072</td>\n",
       "      <td>3717.5</td>\n",
       "      <td>13862.4375</td>\n",
       "      <td>29172.4375</td>\n",
       "      <td>0.127432</td>\n",
       "    </tr>\n",
       "  </tbody>\n",
       "</table>\n",
       "</div>"
      ],
      "text/plain": [
       "       Y      X Channel      R    Ye     G         B  Scaled_R  Scaled_Ye  \\\n",
       "0  17140   2383     cy5  16635  4555  1891  26251.25     16635       4555   \n",
       "1   3116  13071     cy5  15907  5736  2127  14768.25     15907       5736   \n",
       "2   5470  10148     cy5  13484     0     0      0.00     13484          0   \n",
       "3   9667   9646     cy5  11344  2481  2593   4390.75     11344       2481   \n",
       "4   9677   9656     cy5  10237  5072  1487  18483.25     10237       5072   \n",
       "\n",
       "   Scaled_G    Scaled_B         sum       G/A  \n",
       "0    4727.5  19688.4375  40879.4375  0.115645  \n",
       "1    5317.5  11076.1875  32720.1875  0.162514  \n",
       "2       0.0      0.0000  13485.0000  0.000000  \n",
       "3    6482.5   3293.0625  17119.0625  0.378671  \n",
       "4    3717.5  13862.4375  29172.4375  0.127432  "
      ]
     },
     "execution_count": 21,
     "metadata": {},
     "output_type": "execute_result"
    }
   ],
   "source": [
    "intensity = pd.read_csv(read_dir/'intensity_deduplicated.csv', index_col=0)\n",
    "print(len(intensity))\n",
    "intensity.head()"
   ]
  },
  {
   "cell_type": "code",
   "execution_count": 22,
   "metadata": {},
   "outputs": [
    {
     "name": "stdout",
     "output_type": "stream",
     "text": [
      "1204087\n"
     ]
    },
    {
     "data": {
      "text/html": [
       "<div>\n",
       "<style scoped>\n",
       "    .dataframe tbody tr th:only-of-type {\n",
       "        vertical-align: middle;\n",
       "    }\n",
       "\n",
       "    .dataframe tbody tr th {\n",
       "        vertical-align: top;\n",
       "    }\n",
       "\n",
       "    .dataframe thead th {\n",
       "        text-align: right;\n",
       "    }\n",
       "</style>\n",
       "<table border=\"1\" class=\"dataframe\">\n",
       "  <thead>\n",
       "    <tr style=\"text-align: right;\">\n",
       "      <th></th>\n",
       "      <th>Y</th>\n",
       "      <th>X</th>\n",
       "      <th>Gene</th>\n",
       "    </tr>\n",
       "  </thead>\n",
       "  <tbody>\n",
       "    <tr>\n",
       "      <th>25</th>\n",
       "      <td>8061</td>\n",
       "      <td>8664</td>\n",
       "      <td>CD3D</td>\n",
       "    </tr>\n",
       "    <tr>\n",
       "      <th>26</th>\n",
       "      <td>3961</td>\n",
       "      <td>10474</td>\n",
       "      <td>CD3D</td>\n",
       "    </tr>\n",
       "    <tr>\n",
       "      <th>28</th>\n",
       "      <td>10768</td>\n",
       "      <td>11821</td>\n",
       "      <td>CD3D</td>\n",
       "    </tr>\n",
       "    <tr>\n",
       "      <th>30</th>\n",
       "      <td>9771</td>\n",
       "      <td>10953</td>\n",
       "      <td>CD3D</td>\n",
       "    </tr>\n",
       "    <tr>\n",
       "      <th>32</th>\n",
       "      <td>1252</td>\n",
       "      <td>11624</td>\n",
       "      <td>CD3D</td>\n",
       "    </tr>\n",
       "  </tbody>\n",
       "</table>\n",
       "</div>"
      ],
      "text/plain": [
       "        Y      X  Gene\n",
       "25   8061   8664  CD3D\n",
       "26   3961  10474  CD3D\n",
       "28  10768  11821  CD3D\n",
       "30   9771  10953  CD3D\n",
       "32   1252  11624  CD3D"
      ]
     },
     "execution_count": 22,
     "metadata": {},
     "output_type": "execute_result"
    }
   ],
   "source": [
    "mapped_genes = pd.read_csv(read_dir / 'mapped_genes.csv', index_col=0)\n",
    "print(len(mapped_genes))\n",
    "mapped_genes.head()"
   ]
  },
  {
   "cell_type": "markdown",
   "metadata": {},
   "source": [
    "# Intensity analysis"
   ]
  },
  {
   "cell_type": "code",
   "execution_count": 23,
   "metadata": {},
   "outputs": [],
   "source": [
    "# crosstalk elimination\n",
    "intensity['B'] = intensity['B'] - intensity['G'] * 0.25\n",
    "intensity['B'] = np.maximum(intensity['B'], 0)\n",
    "\n",
    "# Scale\n",
    "intensity['Scaled_R'] = intensity['R']\n",
    "intensity['Scaled_Ye'] = intensity['Ye']\n",
    "intensity['Scaled_G'] = intensity['G'] * 2.5\n",
    "intensity['Scaled_B'] = intensity['B']\n",
    "\n",
    "# threshold by intensity\n",
    "intensity['sum'] = intensity['Scaled_R'] + intensity['Scaled_Ye'] + intensity['Scaled_B']\n",
    "intensity['sum_G'] = intensity['Scaled_R'] + intensity['Scaled_Ye'] + intensity['Scaled_B'] + intensity['Scaled_G']"
   ]
  },
  {
   "cell_type": "code",
   "execution_count": 24,
   "metadata": {},
   "outputs": [
    {
     "data": {
      "image/png": "[encoded data removed]",
      "text/plain": [
       "<Figure size 2000x1000 with 1 Axes>"
      ]
     },
     "metadata": {},
     "output_type": "display_data"
    }
   ],
   "source": [
    "plt.figure(figsize=(20,10))\n",
    "plt.hist(intensity['sum'], bins=200, range=[0, 10000])\n",
    "plt.show()"
   ]
  },
  {
   "cell_type": "markdown",
   "metadata": {},
   "source": [
    "# Snr analysis"
   ]
  },
  {
   "cell_type": "code",
   "execution_count": 25,
   "metadata": {},
   "outputs": [],
   "source": [
    "# intensity.loc[intensity['snr']>20, 'snr'] = 20\n",
    "# plt.figure(figsize=(20,10))\n",
    "# plt.hist(intensity.loc[:, 'snr'], bins=1000)\n",
    "# plt.show()"
   ]
  },
  {
   "cell_type": "code",
   "execution_count": 26,
   "metadata": {},
   "outputs": [],
   "source": [
    "# plt.figure(figsize=(20,10))\n",
    "# plt.hist(intensity['sum_G'], bins=200, range=[100,5000])\n",
    "# plt.show()"
   ]
  },
  {
   "cell_type": "code",
   "execution_count": 27,
   "metadata": {},
   "outputs": [],
   "source": [
    "# data = intensity[intensity['sum']>750]\n",
    "# data = data[data['label']>15]\n",
    "\n",
    "# label_counts = data['label'].value_counts()\n",
    "# label_percentages = label_counts / label_counts.sum()\n",
    "\n",
    "# plt.figure(figsize=(8, 8))  # 设置图形的大小\n",
    "# plt.pie(label_percentages, labels=label_counts.index, autopct='%1.1f%%', startangle=90)\n",
    "# plt.axis('equal')\n",
    "# plt.legend()\n",
    "# plt.show()"
   ]
  },
  {
   "cell_type": "markdown",
   "metadata": {},
   "source": [
    "# Save spots raw images"
   ]
  },
  {
   "cell_type": "code",
   "execution_count": 28,
   "metadata": {},
   "outputs": [],
   "source": [
    "gene_list = pd.read_csv(src_dir / 'gene_list.csv')['gene'].tolist()"
   ]
  },
  {
   "cell_type": "code",
   "execution_count": 29,
   "metadata": {},
   "outputs": [],
   "source": [
    "channels = {'cy5','cy3','FAM','TxRed'}\n",
    "spots = {}\n",
    "\n",
    "for gene in gene_list: spots[gene] = mapped_genes[mapped_genes['Gene'] == gene].sample(n=20)\n",
    "\n",
    "# os.makedirs(check_dir / 'morethan750', exist_ok=True)\n",
    "for chn in channels:\n",
    "    im = imread(stc_dir / f'cyc_1_{chn}.tif')\n",
    "    for gene_index, gene in enumerate(spots.keys(), start=1):\n",
    "        for index, spot in spots[gene].iterrows():\n",
    "            x_start = int(spot['X'])\n",
    "            y_start = int(spot['Y'])\n",
    "    \n",
    "            im_cut = im[max(0, y_start-15): min(im.shape[0], y_start+16), \n",
    "                        max(0, x_start-15): min(im.shape[1], x_start+16)]\n",
    "            imsave(check_dir / f'{gene_index}_{gene}_{index}_{chn}_crop.tif', im_cut, check_contrast=False)"
   ]
  },
  {
   "cell_type": "code",
   "execution_count": 30,
   "metadata": {},
   "outputs": [],
   "source": [
    "plt.rcParams['axes.facecolor'] = 'black'\n",
    "plt.rcParams['figure.facecolor'] = 'black'\n",
    "plt.rcParams['axes.edgecolor'] = 'white'\n",
    "plt.rcParams['axes.labelcolor'] = 'white'\n",
    "plt.rcParams['xtick.color'] = 'white'\n",
    "plt.rcParams['ytick.color'] = 'white'\n",
    "plt.rcParams['grid.color'] = 'gray'\n",
    "plt.rcParams['text.color'] = 'white'\n",
    "\n",
    "# Function to extract the central 10x10 region and the diagonal from it\n",
    "def extract_center_and_diagonal(channel, center_size=11, position='sequence'):\n",
    "    start_idx = (channel.shape[0] - center_size) // 2\n",
    "    end_idx = start_idx + center_size\n",
    "    center_region = channel[start_idx:end_idx, start_idx:end_idx]\n",
    "    if position == 'sequence': return np.diagonal(center_region)\n",
    "    elif position == 'nonsequence': return np.diagonal(np.fliplr(center_region))\n",
    "\n",
    "def one_point(red, yellow, blue, green, axes, index, center_size=11):\n",
    "    ax_im = axes[0]\n",
    "    ax_imsub = axes[1]\n",
    "    ax_plot = axes[2]\n",
    "    ax_plot2 = axes[3]\n",
    "    # Convert uint16 data to float32 to avoid overflow and for processing\n",
    "    red = (red - np.mean(red)).astype(np.float32)\n",
    "    yellow = (yellow - np.mean(yellow)).astype(np.float32)\n",
    "    blue = (blue - np.mean(blue)).astype(np.float32)\n",
    "    green = ((green - np.mean(green))*2.5).astype(np.float32)\n",
    "\n",
    "    # Decompose the yellow channel into red and green\n",
    "    red_effective = np.clip(red + 0.5 * yellow, 0, 65535)\n",
    "    green_effective = np.clip(green + 0.5 * yellow, 0, 65535)\n",
    "    blue_effective = np.clip(blue, 0, 65535)  # Blue channel remains unchanged\n",
    "    rgb_image = np.stack((red_effective/3000, green_effective/3000, blue_effective/3000), axis=-1)\n",
    "    rgb_image = np.clip(rgb_image, 0, 1)\n",
    "\n",
    "    # Calculate the starting index\n",
    "    start_index = (rgb_image.shape[0] - center_size) // 2\n",
    "    end_index = start_index + center_size\n",
    "    center_region = rgb_image[start_index:end_index, start_index:end_index]\n",
    "\n",
    "\n",
    "    # Setup the figure and subplots\n",
    "    ax_im.imshow(rgb_image)\n",
    "    ax_im.set_title(index)\n",
    "    ax_imsub.imshow(center_region)\n",
    "    ax_imsub.set_title('Center 10x10 Region')\n",
    "\n",
    "    # Extract diagonals\n",
    "    diag_red = extract_center_and_diagonal(red, center_size=center_size)\n",
    "    diag_yellow = extract_center_and_diagonal(yellow, center_size=center_size)\n",
    "    diag_blue = extract_center_and_diagonal(blue, center_size=center_size)\n",
    "    diag_green = extract_center_and_diagonal(green, center_size=center_size)\n",
    "    ax_plot.plot(diag_red, 'r-', label='Red')\n",
    "    ax_plot.plot(diag_green, 'g-', label='Green')\n",
    "    ax_plot.plot(diag_blue, 'b-', label='Blue')\n",
    "    ax_plot.plot(diag_yellow, 'y-', label='Yellow')\n",
    "    ax_plot.set_title('Diagonal Intensity Distribution')\n",
    "    ax_plot.set_xlabel('Diagonal Index')\n",
    "    ax_plot.set_ylabel('Intensity')\n",
    "    ax_plot.legend()\n",
    "\n",
    "    # Extract diagonals in another position\n",
    "    diag_red = extract_center_and_diagonal(red, center_size=center_size, position='nonsequence')\n",
    "    diag_yellow = extract_center_and_diagonal(yellow, center_size=center_size, position='nonsequence')\n",
    "    diag_blue = extract_center_and_diagonal(blue, center_size=center_size, position='nonsequence')\n",
    "    diag_green = extract_center_and_diagonal(green, center_size=center_size, position='nonsequence')\n",
    "    ax_plot2.plot(diag_red, 'r-', label='Red')\n",
    "    ax_plot2.plot(diag_green, 'g-', label='Green')\n",
    "    ax_plot2.plot(diag_blue, 'b-', label='Blue')\n",
    "    ax_plot2.plot(diag_yellow, 'y-', label='Yellow')\n",
    "    ax_plot2.set_title('Diagonal Intensity Distribution')\n",
    "    ax_plot2.set_xlabel('Diagonal Index')\n",
    "    ax_plot2.set_ylabel('Intensity')\n",
    "    ax_plot2.legend()"
   ]
  },
  {
   "cell_type": "code",
   "execution_count": 31,
   "metadata": {},
   "outputs": [
    {
     "name": "stderr",
     "output_type": "stream",
     "text": [
      "Drawing_spots: 100%|██████████| 30/30 [08:27<00:00, 16.92s/it]\n"
     ]
    }
   ],
   "source": [
    "for gene_index, gene in tqdm(enumerate(gene_list, start=1), total=len(gene_list), desc='Drawing_spots'):\n",
    "    index_list = [_.split('_')[-3] for _ in os.listdir(check_dir) if _.split('_')[0]==f'{gene_index}']\n",
    "    points = {}\n",
    "    for index in index_list:\n",
    "        red = imread(check_dir / f'{gene_index}_{gene}_{index}_cy5_crop.tif')\n",
    "        yellow = imread(check_dir / f'{gene_index}_{gene}_{index}_TxRed_crop.tif')\n",
    "        blue = imread(check_dir / f'{gene_index}_{gene}_{index}_FAM_crop.tif')\n",
    "        green = imread(check_dir / f'{gene_index}_{gene}_{index}_cy3_crop.tif')\n",
    "        points[index] = {'red':red, 'green':green, 'blue':blue, 'yellow':yellow}\n",
    "    # points\n",
    "    fig, axes = plt.subplots(ncols=4, nrows=len(points), figsize=(16, 4*len(points)))\n",
    "    for i, (index, point) in enumerate(points.items()):\n",
    "        red = point['red']\n",
    "        green = point['green']\n",
    "        blue = point['blue']\n",
    "        yellow = point['yellow']\n",
    "        one_point(red,yellow,blue,green,axes=axes[i,:],index=index)\n",
    "    plt.tight_layout()\n",
    "\n",
    "    plt.savefig(check_dir / f'_overall_{gene_index}.png', bbox_inches='tight', dpi=300)\n",
    "    plt.close(fig)"
   ]
  },
  {
   "cell_type": "code",
   "execution_count": 32,
   "metadata": {},
   "outputs": [],
   "source": [
    "# index = 694667\n",
    "# y, x = intensity.loc[index, ['Y', 'X']]\n",
    "# print(mapped_genes.loc[index])\n",
    "# intensity[(intensity['Y'] >= y - 5) & (intensity['Y'] <= y + 5) &\n",
    "#           (intensity['X'] >= x - 5) & (intensity['X'] <= x + 5)]"
   ]
  }
 ],
 "metadata": {
  "kernelspec": {
   "display_name": "base",
   "language": "python",
   "name": "python3"
  },
  "language_info": {
   "codemirror_mode": {
    "name": "ipython",
    "version": 3
   },
   "file_extension": ".py",
   "mimetype": "text/x-python",
   "name": "python",
   "nbconvert_exporter": "python",
   "pygments_lexer": "ipython3",
   "version": "3.11.9"
  }
 },
 "nbformat": 4,
 "nbformat_minor": 2
}
